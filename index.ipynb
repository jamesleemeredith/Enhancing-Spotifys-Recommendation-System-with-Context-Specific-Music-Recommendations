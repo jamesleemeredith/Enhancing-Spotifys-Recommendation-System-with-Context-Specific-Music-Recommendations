{
 "cells": [
  {
   "cell_type": "code",
   "execution_count": 15,
   "metadata": {},
   "outputs": [],
   "source": [
    "# Imports the required libraries for the project\n",
    "import os\n",
    "import sys\n",
    "import time\n",
    "import glob\n",
    "import datetime\n",
    "import sqlite3\n",
    "import numpy as np"
   ]
  },
  {
   "cell_type": "code",
   "execution_count": 16,
   "metadata": {},
   "outputs": [],
   "source": [
    "# path to the Million Song Dataset subset\n",
    "msd_subset_path='./MillionSongSubset'\n",
    "msd_subset_data_path=os.path.join(msd_subset_path,'data')\n",
    "msd_subset_addf_path=os.path.join(msd_subset_path,'AdditionalFiles')"
   ]
  },
  {
   "cell_type": "code",
   "execution_count": 17,
   "metadata": {},
   "outputs": [],
   "source": [
    "# path to the Million Song Dataset code\n",
    "msd_code_path='../MSongsDB'\n",
    "assert os.path.isdir(msd_code_path),'wrong path' # sanity check\n",
    "# we add some paths to python so we can import MSD code\n",
    "# Ubuntu: you can change the environment variable PYTHONPATH\n",
    "# in your .bashrc file so you do not have to type these lines\n",
    "sys.path.append( os.path.join(msd_code_path,'PythonSrc') )"
   ]
  },
  {
   "cell_type": "code",
   "execution_count": 18,
   "metadata": {},
   "outputs": [],
   "source": [
    "# imports specific to the MSD\n",
    "import hdf5_getters as GETTERS"
   ]
  },
  {
   "cell_type": "code",
   "execution_count": 19,
   "metadata": {},
   "outputs": [],
   "source": [
    "# the following function simply gives us a nice string for\n",
    "# a time lag in seconds\n",
    "def strtimedelta(starttime,stoptime):\n",
    "    return str(datetime.timedelta(seconds=stoptime-starttime))"
   ]
  },
  {
   "cell_type": "code",
   "execution_count": 20,
   "metadata": {},
   "outputs": [],
   "source": [
    "# we define this very useful function to iterate the files\n",
    "def apply_to_all_files(basedir,func=lambda x: x,ext='.h5'):\n",
    "    \"\"\"\n",
    "    From a base directory, go through all subdirectories,\n",
    "    find all files with the given extension, apply the\n",
    "    given function 'func' to all of them.\n",
    "    If no 'func' is passed, we do nothing except counting.\n",
    "    INPUT\n",
    "       basedir  - base directory of the dataset\n",
    "       func     - function to apply to all filenames\n",
    "       ext      - extension, .h5 by default\n",
    "    RETURN\n",
    "       number of files\n",
    "    \"\"\"\n",
    "    cnt = 0\n",
    "    # iterate over all files in all subdirectories\n",
    "    for root, dirs, files in os.walk(basedir):\n",
    "        files = glob.glob(os.path.join(root,'*'+ext))\n",
    "        # count files\n",
    "        cnt += len(files)\n",
    "        # apply function to all files\n",
    "        for f in files :\n",
    "            func(f)       \n",
    "    return cnt"
   ]
  },
  {
   "cell_type": "code",
   "execution_count": 22,
   "metadata": {},
   "outputs": [
    {
     "name": "stdout",
     "output_type": "stream",
     "text": [
      "number of song files: 10000\n"
     ]
    }
   ],
   "source": [
    "# we can now easily count the number of files in the dataset\n",
    "print('number of song files:',apply_to_all_files(msd_subset_path))"
   ]
  },
  {
   "cell_type": "code",
   "execution_count": 23,
   "metadata": {},
   "outputs": [],
   "source": [
    "# let's now get all artist names in a set(). One nice property:\n",
    "# if we enter many times the same artist, only one will be kept.\n",
    "all_artist_names = set()\n",
    "\n",
    "# we define the function to apply to all files\n",
    "def func_to_get_artist_name(filename):\n",
    "    \"\"\"\n",
    "    This function does 3 simple things:\n",
    "    - open the song file\n",
    "    - get artist ID and put it\n",
    "    - close the file\n",
    "    \"\"\"\n",
    "    h5 = GETTERS.open_h5_file_read(filename)\n",
    "    artist_name = GETTERS.get_artist_name(h5)\n",
    "    all_artist_names.add( artist_name )\n",
    "    h5.close()\n",
    "    "
   ]
  },
  {
   "cell_type": "code",
   "execution_count": 28,
   "metadata": {},
   "outputs": [
    {
     "ename": "AttributeError",
     "evalue": "module 'tables' has no attribute 'openFile'",
     "output_type": "error",
     "traceback": [
      "\u001b[1;31m---------------------------------------------------------------------------\u001b[0m",
      "\u001b[1;31mAttributeError\u001b[0m                            Traceback (most recent call last)",
      "Cell \u001b[1;32mIn[28], line 4\u001b[0m\n\u001b[0;32m      1\u001b[0m \u001b[39m# let's apply the previous function to all files\u001b[39;00m\n\u001b[0;32m      2\u001b[0m \u001b[39m# we'll also measure how long it takes\u001b[39;00m\n\u001b[0;32m      3\u001b[0m t1 \u001b[39m=\u001b[39m time\u001b[39m.\u001b[39mtime()\n\u001b[1;32m----> 4\u001b[0m apply_to_all_files(msd_subset_path,func\u001b[39m=\u001b[39;49mfunc_to_get_artist_name)\n\u001b[0;32m      5\u001b[0m t2 \u001b[39m=\u001b[39m time\u001b[39m.\u001b[39mtime()\n\u001b[0;32m      6\u001b[0m \u001b[39mprint\u001b[39m(\u001b[39m'\u001b[39m\u001b[39mall artist names extracted in:\u001b[39m\u001b[39m'\u001b[39m,strtimedelta(t1,t2))\n",
      "Cell \u001b[1;32mIn[20], line 23\u001b[0m, in \u001b[0;36mapply_to_all_files\u001b[1;34m(basedir, func, ext)\u001b[0m\n\u001b[0;32m     21\u001b[0m     \u001b[39m# apply function to all files\u001b[39;00m\n\u001b[0;32m     22\u001b[0m     \u001b[39mfor\u001b[39;00m f \u001b[39min\u001b[39;00m files :\n\u001b[1;32m---> 23\u001b[0m         func(f)       \n\u001b[0;32m     24\u001b[0m \u001b[39mreturn\u001b[39;00m cnt\n",
      "Cell \u001b[1;32mIn[23], line 13\u001b[0m, in \u001b[0;36mfunc_to_get_artist_name\u001b[1;34m(filename)\u001b[0m\n\u001b[0;32m      6\u001b[0m \u001b[39mdef\u001b[39;00m \u001b[39mfunc_to_get_artist_name\u001b[39m(filename):\n\u001b[0;32m      7\u001b[0m \u001b[39m    \u001b[39m\u001b[39m\"\"\"\u001b[39;00m\n\u001b[0;32m      8\u001b[0m \u001b[39m    This function does 3 simple things:\u001b[39;00m\n\u001b[0;32m      9\u001b[0m \u001b[39m    - open the song file\u001b[39;00m\n\u001b[0;32m     10\u001b[0m \u001b[39m    - get artist ID and put it\u001b[39;00m\n\u001b[0;32m     11\u001b[0m \u001b[39m    - close the file\u001b[39;00m\n\u001b[0;32m     12\u001b[0m \u001b[39m    \"\"\"\u001b[39;00m\n\u001b[1;32m---> 13\u001b[0m     h5 \u001b[39m=\u001b[39m GETTERS\u001b[39m.\u001b[39;49mopen_h5_file_read(filename)\n\u001b[0;32m     14\u001b[0m     artist_name \u001b[39m=\u001b[39m GETTERS\u001b[39m.\u001b[39mget_artist_name(h5)\n\u001b[0;32m     15\u001b[0m     all_artist_names\u001b[39m.\u001b[39madd( artist_name )\n",
      "File \u001b[1;32mc:\\Users\\James-PC\\code\\Flatiron\\Projects\\Flatiron-School-Capstone-Project\\../MSongsDB\\PythonSrc\\hdf5_getters.py:39\u001b[0m, in \u001b[0;36mopen_h5_file_read\u001b[1;34m(h5filename)\u001b[0m\n\u001b[0;32m     34\u001b[0m \u001b[39mdef\u001b[39;00m \u001b[39mopen_h5_file_read\u001b[39m(h5filename):\n\u001b[0;32m     35\u001b[0m \u001b[39m    \u001b[39m\u001b[39m\"\"\"\u001b[39;00m\n\u001b[0;32m     36\u001b[0m \u001b[39m    Open an existing H5 in read mode.\u001b[39;00m\n\u001b[0;32m     37\u001b[0m \u001b[39m    Same function as in hdf5_utils, here so we avoid one import\u001b[39;00m\n\u001b[0;32m     38\u001b[0m \u001b[39m    \"\"\"\u001b[39;00m\n\u001b[1;32m---> 39\u001b[0m     \u001b[39mreturn\u001b[39;00m tables\u001b[39m.\u001b[39;49mopenFile(h5filename, mode\u001b[39m=\u001b[39m\u001b[39m'\u001b[39m\u001b[39mr\u001b[39m\u001b[39m'\u001b[39m)\n",
      "\u001b[1;31mAttributeError\u001b[0m: module 'tables' has no attribute 'openFile'"
     ]
    }
   ],
   "source": [
    "# let's apply the previous function to all files\n",
    "# we'll also measure how long it takes\n",
    "t1 = time.time()\n",
    "apply_to_all_files(msd_subset_path,func=func_to_get_artist_name)\n",
    "t2 = time.time()\n",
    "print('all artist names extracted in:',strtimedelta(t1,t2))\n"
   ]
  }
 ],
 "metadata": {
  "kernelspec": {
   "display_name": "learn-env",
   "language": "python",
   "name": "python3"
  },
  "language_info": {
   "codemirror_mode": {
    "name": "ipython",
    "version": 3
   },
   "file_extension": ".py",
   "mimetype": "text/x-python",
   "name": "python",
   "nbconvert_exporter": "python",
   "pygments_lexer": "ipython3",
   "version": "3.11.3"
  },
  "orig_nbformat": 4
 },
 "nbformat": 4,
 "nbformat_minor": 2
}
